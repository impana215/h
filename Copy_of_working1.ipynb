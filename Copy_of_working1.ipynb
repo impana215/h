{
  "cells": [
    {
      "cell_type": "markdown",
      "metadata": {
        "id": "view-in-github",
        "colab_type": "text"
      },
      "source": [
        "<a href=\"https://colab.research.google.com/github/impana215/h/blob/main/Copy_of_working1.ipynb\" target=\"_parent\"><img src=\"https://colab.research.google.com/assets/colab-badge.svg\" alt=\"Open In Colab\"/></a>"
      ]
    },
    {
      "cell_type": "code",
      "execution_count": 2,
      "metadata": {
        "id": "hRlrBXeFAuFK"
      },
      "outputs": [],
      "source": [
        "import re\n",
        "import pandas as pd\n",
        "import pyttsx3\n",
        "from sklearn import preprocessing\n",
        "from sklearn.tree import DecisionTreeClassifier,_tree\n",
        "import numpy as np\n",
        "from sklearn.model_selection import train_test_split\n",
        "from sklearn.model_selection import cross_val_score\n",
        "from sklearn.svm import SVC\n",
        "import csv\n",
        "import warnings"
      ]
    },
    {
      "cell_type": "code",
      "execution_count": 3,
      "metadata": {
        "id": "iDMipAgdBKqz"
      },
      "outputs": [],
      "source": [
        "warnings.filterwarnings(\"ignore\", category=DeprecationWarning)"
      ]
    },
    {
      "cell_type": "code",
      "execution_count": 1,
      "metadata": {
        "colab": {
          "base_uri": "https://localhost:8080/"
        },
        "id": "LG9-FRB8d_Hy",
        "outputId": "cdfbf9a4-e0f3-40cf-c4be-1f3cc01b9268"
      },
      "outputs": [
        {
          "output_type": "stream",
          "name": "stdout",
          "text": [
            "Looking in indexes: https://pypi.org/simple, https://us-python.pkg.dev/colab-wheels/public/simple/\n",
            "Collecting pyttsx3\n",
            "  Downloading pyttsx3-2.90-py3-none-any.whl (39 kB)\n",
            "Installing collected packages: pyttsx3\n",
            "Successfully installed pyttsx3-2.90\n"
          ]
        }
      ],
      "source": [
        "!pip install pyttsx3\n"
      ]
    },
    {
      "cell_type": "code",
      "execution_count": 5,
      "metadata": {
        "id": "bldgL-LoBW2S"
      },
      "outputs": [],
      "source": [
        "training = pd.read_csv('/content/sample_data/Training.csv')\n",
        "testing= pd.read_csv('/content/sample_data/Testing.csv')\n",
        "cols= training.columns\n",
        "cols= cols[:-1]\n",
        "x = training[cols]\n",
        "y = training['prognosis']\n",
        "y1= y"
      ]
    },
    {
      "cell_type": "code",
      "execution_count": 6,
      "metadata": {
        "id": "ZeL1BBLjBcKO"
      },
      "outputs": [],
      "source": [
        "reduced_data = training.groupby(training['prognosis']).max()\n",
        "\n",
        "#mapping strings to numbers\n",
        "le = preprocessing.LabelEncoder()\n",
        "le.fit(y)\n",
        "y = le.transform(y)\n",
        "\n",
        "\n",
        "x_train, x_test, y_train, y_test = train_test_split(x, y, test_size=0.33, random_state=42)\n",
        "testx    = testing[cols]\n",
        "testy    = testing['prognosis']  \n",
        "testy    = le.transform(testy)\n"
      ]
    },
    {
      "cell_type": "code",
      "execution_count": 7,
      "metadata": {
        "colab": {
          "base_uri": "https://localhost:8080/"
        },
        "id": "e3OQdG8LBqVs",
        "outputId": "da90fd93-0405-4a4e-89a0-81282e712803"
      },
      "outputs": [
        {
          "output_type": "stream",
          "name": "stdout",
          "text": [
            "0.973526315669811\n"
          ]
        }
      ],
      "source": [
        "clf1  = DecisionTreeClassifier()\n",
        "clf = clf1.fit(x_train,y_train)\n",
        "# print(clf.score(x_train,y_train))\n",
        "# print (\"cross result========\")\n",
        "scores = cross_val_score(clf, x_test, y_test, cv=3)\n",
        "# print (scores)\n",
        "print (scores.mean())"
      ]
    },
    {
      "cell_type": "code",
      "execution_count": 8,
      "metadata": {
        "colab": {
          "base_uri": "https://localhost:8080/"
        },
        "id": "3XxR3MN2DIzs",
        "outputId": "578f8bfa-7ef3-41e0-9081-6e45a45d7eba"
      },
      "outputs": [
        {
          "output_type": "stream",
          "name": "stdout",
          "text": [
            "for svm: \n",
            "1.0\n"
          ]
        }
      ],
      "source": [
        "model=SVC()\n",
        "model.fit(x_train,y_train)\n",
        "print(\"for svm: \")\n",
        "print(model.score(x_test,y_test))"
      ]
    },
    {
      "cell_type": "code",
      "execution_count": 9,
      "metadata": {
        "id": "XxzN8ZF3DNZy"
      },
      "outputs": [],
      "source": [
        "importances = clf.feature_importances_\n",
        "indices = np.argsort(importances)[::-1]\n",
        "features = cols"
      ]
    },
    {
      "cell_type": "code",
      "execution_count": 10,
      "metadata": {
        "id": "0NhVw1PADQzF"
      },
      "outputs": [],
      "source": [
        "def readn(nstr):\n",
        "    engine = pyttsx3.init()\n",
        "\n",
        "    engine.setProperty('voice', \"english+f5\")\n",
        "    engine.setProperty('rate', 130)\n",
        "\n",
        "    engine.say(nstr)\n",
        "    engine.runAndWait()\n",
        "    engine.stop()"
      ]
    },
    {
      "cell_type": "code",
      "execution_count": 11,
      "metadata": {
        "id": "3z0EwN8uEJVL"
      },
      "outputs": [],
      "source": [
        "severityDictionary=dict()\n",
        "description_list = dict()\n",
        "precautionDictionary=dict()"
      ]
    },
    {
      "cell_type": "code",
      "execution_count": 12,
      "metadata": {
        "id": "wRD4vmGhEOdz"
      },
      "outputs": [],
      "source": [
        "symptoms_dict = {}"
      ]
    },
    {
      "cell_type": "code",
      "execution_count": 13,
      "metadata": {
        "id": "VrzDmqICEUTp"
      },
      "outputs": [],
      "source": [
        "for index, symptom in enumerate(x):\n",
        "       symptoms_dict[symptom] = index\n",
        "def calc_condition(exp,days):\n",
        "    sum=0\n",
        "    for item in exp:\n",
        "         sum=sum+severityDictionary[item]\n",
        "    if((sum*days)/(len(exp)+1)>13):\n",
        "        print(\"You should take the consultation from doctor. \")\n",
        "    else:\n",
        "        print(\"It might not be that bad but you should take precautions.\")\n"
      ]
    },
    {
      "cell_type": "code",
      "execution_count": 14,
      "metadata": {
        "id": "xxmiyAPMEZ0U"
      },
      "outputs": [],
      "source": [
        "def getDescription():\n",
        "    global description_list\n",
        "    with open('MasterData/symptom_Description.csv') as csv_file:\n",
        "        csv_reader = csv.reader(csv_file, delimiter=',')\n",
        "        line_count = 0\n",
        "        for row in csv_reader:\n",
        "            _description={row[0]:row[1]}\n",
        "            description_list.update(_description)"
      ]
    },
    {
      "cell_type": "code",
      "execution_count": 15,
      "metadata": {
        "id": "BloxgEuUEdDH"
      },
      "outputs": [],
      "source": [
        "def getSeverityDict():\n",
        "    global severityDictionary\n",
        "    with open('MasterData/symptom_severity.csv') as csv_file:\n",
        "\n",
        "        csv_reader = csv.reader(csv_file, delimiter=',')\n",
        "        line_count = 0\n",
        "        try:\n",
        "            for row in csv_reader:\n",
        "                _diction={row[0]:int(row[1])}\n",
        "                severityDictionary.update(_diction)\n",
        "        except:\n",
        "            pass"
      ]
    },
    {
      "cell_type": "code",
      "execution_count": 16,
      "metadata": {
        "id": "3PDEYVG5EgCs"
      },
      "outputs": [],
      "source": [
        "def getprecautionDict():\n",
        "    global precautionDictionary\n",
        "    with open('MasterData/symptom_precaution.csv') as csv_file:\n",
        "\n",
        "        csv_reader = csv.reader(csv_file, delimiter=',')\n",
        "        line_count = 0\n",
        "        for row in csv_reader:\n",
        "            _prec={row[0]:[row[1],row[2],row[3],row[4]]}\n",
        "            precautionDictionary.update(_prec)"
      ]
    },
    {
      "cell_type": "code",
      "execution_count": 17,
      "metadata": {
        "id": "zgl_2iLLEk6p"
      },
      "outputs": [],
      "source": [
        "def getInfo():\n",
        "    print(\"-----------------------------------HealthCare ChatBot-----------------------------------\")\n",
        "    print(\"\\nYour Name? \\t\\t\\t\\t\",end=\"->\")\n",
        "    name=input(\"\")\n",
        "    print(\"Hello, \",name)"
      ]
    },
    {
      "cell_type": "code",
      "execution_count": 18,
      "metadata": {
        "id": "kMLY2WNgEo7R"
      },
      "outputs": [],
      "source": [
        "def check_pattern(dis_list,inp):\n",
        "    pred_list=[]\n",
        "    inp=inp.replace(' ','_')\n",
        "    patt = f\"{inp}\"\n",
        "    regexp = re.compile(patt)\n",
        "    pred_list=[item for item in dis_list if regexp.search(item)]\n",
        "    if(len(pred_list)>0):\n",
        "        return 1,pred_list\n",
        "    else:\n",
        "        return 0,[]"
      ]
    },
    {
      "cell_type": "code",
      "execution_count": 19,
      "metadata": {
        "id": "2tzAx1Y9Es-1"
      },
      "outputs": [],
      "source": [
        "def sec_predict(symptoms_exp):\n",
        "    df = pd.read_csv('Data/Training.csv')\n",
        "    X = df.iloc[:, :-1]\n",
        "    y = df['prognosis']\n",
        "    X_train, X_test, y_train, y_test = train_test_split(X, y, test_size=0.3, random_state=20)\n",
        "    rf_clf = DecisionTreeClassifier()\n",
        "    rf_clf.fit(X_train, y_train)\n",
        "    symptoms_dict = {symptom: index for index, symptom in enumerate(X)}\n",
        "    input_vector = np.zeros(len(symptoms_dict))\n",
        "    for item in symptoms_exp:\n",
        "      input_vector[[symptoms_dict[item]]] = 1\n",
        "\n",
        "    return rf_clf.predict([input_vector])"
      ]
    },
    {
      "cell_type": "code",
      "execution_count": 20,
      "metadata": {
        "id": "Hhi6AtiAE1lx"
      },
      "outputs": [],
      "source": [
        "def print_disease(node):\n",
        "    node = node[0]\n",
        "    val  = node.nonzero() \n",
        "    disease = le.inverse_transform(val[0])\n",
        "    return list(map(lambda x:x.strip(),list(disease)))"
      ]
    },
    {
      "cell_type": "code",
      "execution_count": 21,
      "metadata": {
        "colab": {
          "base_uri": "https://localhost:8080/"
        },
        "id": "0IbXUYcbGAVY",
        "outputId": "dcc464a1-013c-46f9-914c-0fd87c91e024"
      },
      "outputs": [
        {
          "name": "stdout",
          "output_type": "stream",
          "text": [
            "Okay. From how many days ? : 5\n"
          ]
        }
      ],
      "source": [
        "   def tree_to_code(tree, feature_names):\n",
        "    tree_ = tree.tree_\n",
        "    feature_name = [\n",
        "        feature_names[i] if i != tree_.TREE_UNDEFINED else \"undefined!\"\n",
        "        for i in tree_.feature\n",
        "    ]\n",
        "\n",
        "    chk_dis=\",\".join(feature_names).split(\",\")\n",
        "    symptoms_present = []\n",
        "    while True:\n",
        "\n",
        "        print(\"\\nEnter the symptom you are experiencing  \\t\\t\",end=\"->\")\n",
        "        disease_input = input(\"\")\n",
        "        conf,cnf_dis=check_pattern(chk_dis,disease_input)\n",
        "        if conf==1:\n",
        "            print(\"searches related to input: \")\n",
        "            for num,i in enumerate(cnf_dis):\n",
        "                print(num,\")\",i)\n",
        "            if num!=0:\n",
        "                print(\"Select the one you meant (0 - {num}):  \", end=\"\")\n",
        "                conf_inp = int(input(\"\"))\n",
        "            else:\n",
        "                conf_inp=0\n",
        "\n",
        "            disease_input=cnf_dis[conf_inp]\n",
        "            break\n",
        "            # print(\"Did you mean: \",cnf_dis,\"?(yes/no) :\",end=\"\")\n",
        "            # conf_inp = input(\"\")\n",
        "            # if(conf_inp==\"yes\"):\n",
        "            #     break\n",
        "        else:\n",
        "            print(\"Enter valid symptom.\")\n",
        "\n",
        "while True:\n",
        "    try:\n",
        "        num_days=int(input(\"Okay. From how many days ? : \"))\n",
        "        break\n",
        "    except:\n",
        "        print(\"Enter valid input.\")\n",
        "def recurse(node, depth):\n",
        "    indent = \"  \" * depth\n",
        "    if tree_.feature[node] != tree_.TREE_UNDEFINED:\n",
        "        name = feature_name[node]\n",
        "        threshold = tree_.threshold[node]\n",
        "\n",
        "        if name == disease_input:\n",
        "            val = 1\n",
        "        else:\n",
        "            val = 0\n",
        "        if  val <= threshold:\n",
        "            recurse(tree_.children_left[node], depth + 1)\n",
        "        else:\n",
        "            symptoms_present.append(name)\n",
        "            recurse(tree_.children_right[node], depth + 1)\n",
        "    else:\n",
        "        present_disease = print_disease(tree_.value[node])\n",
        "        # print( \"You may have \" +  present_disease )\n",
        "        red_cols = reduced_data.columns \n",
        "        symptoms_given = red_cols[reduced_data.loc[present_disease].values[0].nonzero()]\n",
        "        # dis_list=list(symptoms_present)\n",
        "        # if len(dis_list)!=0:\n",
        "        #     print(\"symptoms present  \" + str(list(symptoms_present)))\n",
        "        # print(\"symptoms given \"  +  str(list(symptoms_given)) )\n",
        "        print(\"Are you experiencing any \")\n",
        "        symptoms_exp=[]\n",
        "        for syms in list(symptoms_given):\n",
        "            inp=\"\"\n",
        "            print(syms,\"? : \",end='')\n",
        "            while True:\n",
        "                inp=input(\"\")\n",
        "                if(inp==\"yes\" or inp==\"no\"):\n",
        "                    break\n",
        "                else:\n",
        "                    print(\"provide proper answers i.e. (yes/no) : \",end=\"\")\n",
        "            if(inp==\"yes\"):\n",
        "                symptoms_exp.append(syms)\n",
        "\n",
        "        second_prediction=sec_predict(symptoms_exp)\n",
        "        # print(second_prediction)\n",
        "        calc_condition(symptoms_exp,num_days)\n",
        "        if(present_disease[0]==second_prediction[0]):\n",
        "            print(\"You may have \", present_disease[0])\n",
        "            print(description_list[present_disease[0]])\n",
        "\n",
        "            # readn(f\"You may have {present_disease[0]}\")\n",
        "            # readn(f\"{description_list[present_disease[0]]}\")\n",
        "\n",
        "        else:\n",
        "            print(\"You may have \", present_disease[0], \"or \", second_prediction[0])\n",
        "            print(description_list[present_disease[0]])\n",
        "            print(description_list[second_prediction[0]])\n",
        "\n",
        "        # print(description_list[present_disease[0]])\n",
        "        precution_list=precautionDictionary[present_disease[0]]\n",
        "        print(\"Take following measures : \")\n",
        "        for  i,j in enumerate(precution_list):\n",
        "            print(i+1,\")\",j)\n",
        "\n",
        "        # confidence_level = (1.0*len(symptoms_present))/len(symptoms_given)\n",
        "        # print(\"confidence level is \" + str(confidence_level))\n"
      ]
    },
    {
      "cell_type": "code",
      "execution_count": 22,
      "metadata": {
        "id": "ZJFceMaEGGp5"
      },
      "outputs": [],
      "source": [
        "def recurse(a=0, b=1):\n",
        "  getSeverityDict()\n",
        "  getDescription()\n",
        "  getprecautionDict()\n",
        "  getInfo()\n",
        "  tree_to_code(clf,cols)\n",
        "  print(\"----------------------------------------------------------------------------------------\")\n",
        "\n"
      ]
    }
  ],
  "metadata": {
    "colab": {
      "collapsed_sections": [],
      "provenance": [],
      "include_colab_link": true
    },
    "kernelspec": {
      "display_name": "Python 3.10.6 64-bit",
      "language": "python",
      "name": "python3"
    },
    "language_info": {
      "codemirror_mode": {
        "name": "ipython",
        "version": 3
      },
      "file_extension": ".py",
      "mimetype": "text/x-python",
      "name": "python",
      "nbconvert_exporter": "python",
      "pygments_lexer": "ipython3",
      "version": "3.10.6"
    },
    "vscode": {
      "interpreter": {
        "hash": "dd000a65fbd8c0292909276ca86d80f5c4ffbf586225dd936f032f69f5b2ad71"
      }
    }
  },
  "nbformat": 4,
  "nbformat_minor": 0
}